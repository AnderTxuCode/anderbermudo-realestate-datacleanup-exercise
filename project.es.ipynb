{
  "cells": [
    {
      "attachments": {},
      "cell_type": "markdown",
      "id": "innocent-university",
      "metadata": {},
      "source": [
        "# Limpieza de bienes raíces\n",
        "\n",
        "Este es un conjunto de datos (dataset) reales que fue descargado usando técnicas de web scraping. La data contiene registros de **Fotocasa**, el cual es uno de los sitios más populares de bienes raíces en España. Por favor no hagas esto (web scraping) a no ser que sea para propósitos académicos.\n",
        "\n",
        "El dataset fue descargado hace algunos años por Henry Navarro y en ningún caso se obtuvo beneficio económico de ello.\n",
        "\n",
        "Contiene miles de datos de casas reales publicadas en la web www.fotocasa.com. Tu objetivo es extraer tanta información como sea posible con el conocimiento que tienes hasta ahora de ciencia de datos, por ejemplo ¿cuál es la casa más cara en todo el dataset?\n",
        "\n",
        "Empecemos precisamente con esa pregunta... ¡Buena suerte!"
      ]
    },
    {
      "attachments": {},
      "cell_type": "markdown",
      "id": "multiple-glass",
      "metadata": {},
      "source": [
        "#### Ejercicio 00. Lee el dataset assets/real_estate.csv e intenta visualizar la tabla (★☆☆)"
      ]
    },
    {
      "cell_type": "code",
      "execution_count": 1,
      "id": "frank-heath",
      "metadata": {},
      "outputs": [
        {
          "data": {
            "text/html": [
              "<div>\n",
              "<style scoped>\n",
              "    .dataframe tbody tr th:only-of-type {\n",
              "        vertical-align: middle;\n",
              "    }\n",
              "\n",
              "    .dataframe tbody tr th {\n",
              "        vertical-align: top;\n",
              "    }\n",
              "\n",
              "    .dataframe thead th {\n",
              "        text-align: right;\n",
              "    }\n",
              "</style>\n",
              "<table border=\"1\" class=\"dataframe\">\n",
              "  <thead>\n",
              "    <tr style=\"text-align: right;\">\n",
              "      <th></th>\n",
              "      <th>Unnamed: 0</th>\n",
              "      <th>id_realEstates</th>\n",
              "      <th>isNew</th>\n",
              "      <th>realEstate_name</th>\n",
              "      <th>phone_realEstate</th>\n",
              "      <th>url_inmueble</th>\n",
              "      <th>rooms</th>\n",
              "      <th>bathrooms</th>\n",
              "      <th>surface</th>\n",
              "      <th>price</th>\n",
              "      <th>...</th>\n",
              "      <th>level4Id</th>\n",
              "      <th>level5Id</th>\n",
              "      <th>level6Id</th>\n",
              "      <th>level7Id</th>\n",
              "      <th>level8Id</th>\n",
              "      <th>accuracy</th>\n",
              "      <th>latitude</th>\n",
              "      <th>longitude</th>\n",
              "      <th>zipCode</th>\n",
              "      <th>customZone</th>\n",
              "    </tr>\n",
              "  </thead>\n",
              "  <tbody>\n",
              "    <tr>\n",
              "      <th>0</th>\n",
              "      <td>1</td>\n",
              "      <td>153771986</td>\n",
              "      <td>False</td>\n",
              "      <td>ferrari 57 inmobiliaria</td>\n",
              "      <td>912177526.0</td>\n",
              "      <td>https://www.fotocasa.es/es/comprar/vivienda/ma...</td>\n",
              "      <td>3.0</td>\n",
              "      <td>2.0</td>\n",
              "      <td>103.0</td>\n",
              "      <td>195000</td>\n",
              "      <td>...</td>\n",
              "      <td>0</td>\n",
              "      <td>0</td>\n",
              "      <td>0</td>\n",
              "      <td>0</td>\n",
              "      <td>0</td>\n",
              "      <td>0</td>\n",
              "      <td>40,2948276786438</td>\n",
              "      <td>-3,44402412135624</td>\n",
              "      <td>NaN</td>\n",
              "      <td>NaN</td>\n",
              "    </tr>\n",
              "    <tr>\n",
              "      <th>1</th>\n",
              "      <td>2</td>\n",
              "      <td>153867863</td>\n",
              "      <td>False</td>\n",
              "      <td>tecnocasa fuenlabrada ferrocarril</td>\n",
              "      <td>916358736.0</td>\n",
              "      <td>https://www.fotocasa.es/es/comprar/vivienda/ma...</td>\n",
              "      <td>3.0</td>\n",
              "      <td>1.0</td>\n",
              "      <td>NaN</td>\n",
              "      <td>89000</td>\n",
              "      <td>...</td>\n",
              "      <td>0</td>\n",
              "      <td>0</td>\n",
              "      <td>0</td>\n",
              "      <td>0</td>\n",
              "      <td>0</td>\n",
              "      <td>1</td>\n",
              "      <td>40,28674</td>\n",
              "      <td>-3,79351</td>\n",
              "      <td>NaN</td>\n",
              "      <td>NaN</td>\n",
              "    </tr>\n",
              "    <tr>\n",
              "      <th>2</th>\n",
              "      <td>3</td>\n",
              "      <td>153430440</td>\n",
              "      <td>False</td>\n",
              "      <td>look find boadilla</td>\n",
              "      <td>916350408.0</td>\n",
              "      <td>https://www.fotocasa.es/es/comprar/vivienda/ma...</td>\n",
              "      <td>2.0</td>\n",
              "      <td>2.0</td>\n",
              "      <td>99.0</td>\n",
              "      <td>390000</td>\n",
              "      <td>...</td>\n",
              "      <td>0</td>\n",
              "      <td>0</td>\n",
              "      <td>0</td>\n",
              "      <td>0</td>\n",
              "      <td>0</td>\n",
              "      <td>0</td>\n",
              "      <td>40,4115646786438</td>\n",
              "      <td>-3,90662252135624</td>\n",
              "      <td>NaN</td>\n",
              "      <td>NaN</td>\n",
              "    </tr>\n",
              "    <tr>\n",
              "      <th>3</th>\n",
              "      <td>4</td>\n",
              "      <td>152776331</td>\n",
              "      <td>False</td>\n",
              "      <td>tecnocasa fuenlabrada ferrocarril</td>\n",
              "      <td>916358736.0</td>\n",
              "      <td>https://www.fotocasa.es/es/comprar/vivienda/ma...</td>\n",
              "      <td>3.0</td>\n",
              "      <td>1.0</td>\n",
              "      <td>86.0</td>\n",
              "      <td>89000</td>\n",
              "      <td>...</td>\n",
              "      <td>0</td>\n",
              "      <td>0</td>\n",
              "      <td>0</td>\n",
              "      <td>0</td>\n",
              "      <td>0</td>\n",
              "      <td>0</td>\n",
              "      <td>40,2853785786438</td>\n",
              "      <td>-3,79508142135624</td>\n",
              "      <td>NaN</td>\n",
              "      <td>NaN</td>\n",
              "    </tr>\n",
              "    <tr>\n",
              "      <th>4</th>\n",
              "      <td>5</td>\n",
              "      <td>153180188</td>\n",
              "      <td>False</td>\n",
              "      <td>ferrari 57 inmobiliaria</td>\n",
              "      <td>912177526.0</td>\n",
              "      <td>https://www.fotocasa.es/es/comprar/vivienda/ma...</td>\n",
              "      <td>2.0</td>\n",
              "      <td>2.0</td>\n",
              "      <td>106.0</td>\n",
              "      <td>172000</td>\n",
              "      <td>...</td>\n",
              "      <td>0</td>\n",
              "      <td>0</td>\n",
              "      <td>0</td>\n",
              "      <td>0</td>\n",
              "      <td>0</td>\n",
              "      <td>0</td>\n",
              "      <td>40,2998774864376</td>\n",
              "      <td>-3,45226301356237</td>\n",
              "      <td>NaN</td>\n",
              "      <td>NaN</td>\n",
              "    </tr>\n",
              "    <tr>\n",
              "      <th>...</th>\n",
              "      <td>...</td>\n",
              "      <td>...</td>\n",
              "      <td>...</td>\n",
              "      <td>...</td>\n",
              "      <td>...</td>\n",
              "      <td>...</td>\n",
              "      <td>...</td>\n",
              "      <td>...</td>\n",
              "      <td>...</td>\n",
              "      <td>...</td>\n",
              "      <td>...</td>\n",
              "      <td>...</td>\n",
              "      <td>...</td>\n",
              "      <td>...</td>\n",
              "      <td>...</td>\n",
              "      <td>...</td>\n",
              "      <td>...</td>\n",
              "      <td>...</td>\n",
              "      <td>...</td>\n",
              "      <td>...</td>\n",
              "      <td>...</td>\n",
              "    </tr>\n",
              "    <tr>\n",
              "      <th>15330</th>\n",
              "      <td>15331</td>\n",
              "      <td>153901377</td>\n",
              "      <td>False</td>\n",
              "      <td>infocasa consulting</td>\n",
              "      <td>911360461.0</td>\n",
              "      <td>https://www.fotocasa.es/es/comprar/vivienda/ma...</td>\n",
              "      <td>2.0</td>\n",
              "      <td>1.0</td>\n",
              "      <td>96.0</td>\n",
              "      <td>259470</td>\n",
              "      <td>...</td>\n",
              "      <td>0</td>\n",
              "      <td>0</td>\n",
              "      <td>0</td>\n",
              "      <td>0</td>\n",
              "      <td>0</td>\n",
              "      <td>0</td>\n",
              "      <td>40,45416</td>\n",
              "      <td>-3,70286</td>\n",
              "      <td>NaN</td>\n",
              "      <td>NaN</td>\n",
              "    </tr>\n",
              "    <tr>\n",
              "      <th>15331</th>\n",
              "      <td>15332</td>\n",
              "      <td>150394373</td>\n",
              "      <td>False</td>\n",
              "      <td>inmobiliaria pulpon</td>\n",
              "      <td>912788039.0</td>\n",
              "      <td>https://www.fotocasa.es/es/comprar/vivienda/ma...</td>\n",
              "      <td>3.0</td>\n",
              "      <td>1.0</td>\n",
              "      <td>150.0</td>\n",
              "      <td>165000</td>\n",
              "      <td>...</td>\n",
              "      <td>0</td>\n",
              "      <td>0</td>\n",
              "      <td>0</td>\n",
              "      <td>0</td>\n",
              "      <td>0</td>\n",
              "      <td>0</td>\n",
              "      <td>40,36652</td>\n",
              "      <td>-3,48951</td>\n",
              "      <td>NaN</td>\n",
              "      <td>NaN</td>\n",
              "    </tr>\n",
              "    <tr>\n",
              "      <th>15332</th>\n",
              "      <td>15333</td>\n",
              "      <td>153901397</td>\n",
              "      <td>False</td>\n",
              "      <td>tecnocasa torrelodones</td>\n",
              "      <td>912780348.0</td>\n",
              "      <td>https://www.fotocasa.es/es/comprar/vivienda/ma...</td>\n",
              "      <td>4.0</td>\n",
              "      <td>2.0</td>\n",
              "      <td>175.0</td>\n",
              "      <td>495000</td>\n",
              "      <td>...</td>\n",
              "      <td>0</td>\n",
              "      <td>0</td>\n",
              "      <td>0</td>\n",
              "      <td>0</td>\n",
              "      <td>0</td>\n",
              "      <td>0</td>\n",
              "      <td>40,57444</td>\n",
              "      <td>-3,92124</td>\n",
              "      <td>NaN</td>\n",
              "      <td>NaN</td>\n",
              "    </tr>\n",
              "    <tr>\n",
              "      <th>15333</th>\n",
              "      <td>15334</td>\n",
              "      <td>152607440</td>\n",
              "      <td>False</td>\n",
              "      <td>inmobiliaria pulpon</td>\n",
              "      <td>912788039.0</td>\n",
              "      <td>https://www.fotocasa.es/es/comprar/vivienda/ma...</td>\n",
              "      <td>3.0</td>\n",
              "      <td>2.0</td>\n",
              "      <td>101.0</td>\n",
              "      <td>195000</td>\n",
              "      <td>...</td>\n",
              "      <td>0</td>\n",
              "      <td>0</td>\n",
              "      <td>0</td>\n",
              "      <td>0</td>\n",
              "      <td>0</td>\n",
              "      <td>0</td>\n",
              "      <td>40,36967</td>\n",
              "      <td>-3,48105</td>\n",
              "      <td>NaN</td>\n",
              "      <td>NaN</td>\n",
              "    </tr>\n",
              "    <tr>\n",
              "      <th>15334</th>\n",
              "      <td>15335</td>\n",
              "      <td>153901356</td>\n",
              "      <td>False</td>\n",
              "      <td>infocasa consulting</td>\n",
              "      <td>911360461.0</td>\n",
              "      <td>https://www.fotocasa.es/es/comprar/vivienda/ma...</td>\n",
              "      <td>3.0</td>\n",
              "      <td>2.0</td>\n",
              "      <td>152.0</td>\n",
              "      <td>765000</td>\n",
              "      <td>...</td>\n",
              "      <td>0</td>\n",
              "      <td>0</td>\n",
              "      <td>0</td>\n",
              "      <td>0</td>\n",
              "      <td>0</td>\n",
              "      <td>0</td>\n",
              "      <td>40,45773</td>\n",
              "      <td>-3,69068</td>\n",
              "      <td>NaN</td>\n",
              "      <td>NaN</td>\n",
              "    </tr>\n",
              "  </tbody>\n",
              "</table>\n",
              "<p>15335 rows × 37 columns</p>\n",
              "</div>"
            ],
            "text/plain": [
              "       Unnamed: 0  id_realEstates  isNew                    realEstate_name  \\\n",
              "0               1       153771986  False            ferrari 57 inmobiliaria   \n",
              "1               2       153867863  False  tecnocasa fuenlabrada ferrocarril   \n",
              "2               3       153430440  False                 look find boadilla   \n",
              "3               4       152776331  False  tecnocasa fuenlabrada ferrocarril   \n",
              "4               5       153180188  False            ferrari 57 inmobiliaria   \n",
              "...           ...             ...    ...                                ...   \n",
              "15330       15331       153901377  False                infocasa consulting   \n",
              "15331       15332       150394373  False                inmobiliaria pulpon   \n",
              "15332       15333       153901397  False             tecnocasa torrelodones   \n",
              "15333       15334       152607440  False                inmobiliaria pulpon   \n",
              "15334       15335       153901356  False                infocasa consulting   \n",
              "\n",
              "       phone_realEstate                                       url_inmueble  \\\n",
              "0           912177526.0  https://www.fotocasa.es/es/comprar/vivienda/ma...   \n",
              "1           916358736.0  https://www.fotocasa.es/es/comprar/vivienda/ma...   \n",
              "2           916350408.0  https://www.fotocasa.es/es/comprar/vivienda/ma...   \n",
              "3           916358736.0  https://www.fotocasa.es/es/comprar/vivienda/ma...   \n",
              "4           912177526.0  https://www.fotocasa.es/es/comprar/vivienda/ma...   \n",
              "...                 ...                                                ...   \n",
              "15330       911360461.0  https://www.fotocasa.es/es/comprar/vivienda/ma...   \n",
              "15331       912788039.0  https://www.fotocasa.es/es/comprar/vivienda/ma...   \n",
              "15332       912780348.0  https://www.fotocasa.es/es/comprar/vivienda/ma...   \n",
              "15333       912788039.0  https://www.fotocasa.es/es/comprar/vivienda/ma...   \n",
              "15334       911360461.0  https://www.fotocasa.es/es/comprar/vivienda/ma...   \n",
              "\n",
              "       rooms  bathrooms  surface   price  ... level4Id level5Id level6Id  \\\n",
              "0        3.0        2.0    103.0  195000  ...        0        0        0   \n",
              "1        3.0        1.0      NaN   89000  ...        0        0        0   \n",
              "2        2.0        2.0     99.0  390000  ...        0        0        0   \n",
              "3        3.0        1.0     86.0   89000  ...        0        0        0   \n",
              "4        2.0        2.0    106.0  172000  ...        0        0        0   \n",
              "...      ...        ...      ...     ...  ...      ...      ...      ...   \n",
              "15330    2.0        1.0     96.0  259470  ...        0        0        0   \n",
              "15331    3.0        1.0    150.0  165000  ...        0        0        0   \n",
              "15332    4.0        2.0    175.0  495000  ...        0        0        0   \n",
              "15333    3.0        2.0    101.0  195000  ...        0        0        0   \n",
              "15334    3.0        2.0    152.0  765000  ...        0        0        0   \n",
              "\n",
              "      level7Id level8Id accuracy          latitude          longitude zipCode  \\\n",
              "0            0        0        0  40,2948276786438  -3,44402412135624     NaN   \n",
              "1            0        0        1          40,28674           -3,79351     NaN   \n",
              "2            0        0        0  40,4115646786438  -3,90662252135624     NaN   \n",
              "3            0        0        0  40,2853785786438  -3,79508142135624     NaN   \n",
              "4            0        0        0  40,2998774864376  -3,45226301356237     NaN   \n",
              "...        ...      ...      ...               ...                ...     ...   \n",
              "15330        0        0        0          40,45416           -3,70286     NaN   \n",
              "15331        0        0        0          40,36652           -3,48951     NaN   \n",
              "15332        0        0        0          40,57444           -3,92124     NaN   \n",
              "15333        0        0        0          40,36967           -3,48105     NaN   \n",
              "15334        0        0        0          40,45773           -3,69068     NaN   \n",
              "\n",
              "      customZone  \n",
              "0            NaN  \n",
              "1            NaN  \n",
              "2            NaN  \n",
              "3            NaN  \n",
              "4            NaN  \n",
              "...          ...  \n",
              "15330        NaN  \n",
              "15331        NaN  \n",
              "15332        NaN  \n",
              "15333        NaN  \n",
              "15334        NaN  \n",
              "\n",
              "[15335 rows x 37 columns]"
            ]
          },
          "execution_count": 1,
          "metadata": {},
          "output_type": "execute_result"
        }
      ],
      "source": [
        "import pandas as pd\n",
        "\n",
        "# Este archivo CSV contiene puntos y comas en lugar de comas como separadores\n",
        "ds = pd.read_csv('assets/real_estate.csv', sep=';')\n",
        "ds"
      ]
    },
    {
      "attachments": {},
      "cell_type": "markdown",
      "id": "latin-guest",
      "metadata": {},
      "source": [
        "#### Ejercicio 01. ¿Cuál es la casa más cara en todo el dataset? (★☆☆)\n",
        "\n",
        "Imprime la dirección y el precio de la casa seleccionada. Por ejemplo:\n",
        "\n",
        "`La casa con dirección en Calle del Prado, Nº20 es la más cara y su precio es de 5000000 USD`"
      ]
    },
    {
      "cell_type": "code",
      "execution_count": 2,
      "id": "developing-optimum",
      "metadata": {},
      "outputs": [
        {
          "name": "stdout",
          "output_type": "stream",
          "text": [
            "La casa con dirección en El Escorial es la más cara y su precio es de 8500000 USD\n"
          ]
        }
      ],
      "source": [
        "# TODO\n",
        "casaMaxCalle = ds.loc[ds['price'].idxmax(), 'address'] \n",
        "casaMaxPrecio = ds['price'].max()\n",
        "print(\"La casa con dirección en\",casaMaxCalle,\"es la más cara y su precio es de\",casaMaxPrecio,\"USD\")\n",
        "\n"
      ]
    },
    {
      "attachments": {},
      "cell_type": "markdown",
      "id": "lesser-cosmetic",
      "metadata": {},
      "source": [
        "#### Ejercicio 02. ¿Cuál es la casa más barata del dataset? (★☆☆)\n",
        "\n",
        "Imprime la dirección y el precio de la casa seleccionada. Por ejemplo:\n",
        "\n",
        "`La casa con dirección en Calle Alcalá, Nº58 es la más barata y su precio es de 12000 USD`"
      ]
    },
    {
      "cell_type": "code",
      "execution_count": 3,
      "id": "lovely-oasis",
      "metadata": {},
      "outputs": [
        {
          "name": "stdout",
          "output_type": "stream",
          "text": [
            "La casa con dirección en Parla es la más barata y su precio es de 600 USD\n"
          ]
        }
      ],
      "source": [
        "# TODO\n",
        "casaMinCalle = ds.loc[ds['price' ].idxmin(), 'address'] \n",
        "casaMinPrecio = ds[ds['price'] != 0 ][\"price\"].min()\n",
        "print(\"La casa con dirección en\",casaMinCalle,\"es la más barata y su precio es de\",casaMinPrecio,\"USD\")"
      ]
    },
    {
      "attachments": {},
      "cell_type": "markdown",
      "id": "compliant-fellowship",
      "metadata": {},
      "source": [
        "#### Ejercicio 03. ¿Cuál es la casa más grande y la más pequeña del dataset? (★☆☆)\n",
        "\n",
        "Imprime la dirección y el área de las casas seleccionadas. Por ejemplo:\n",
        "\n",
        "`La casa más grande está ubicada en Calle Gran Vía, Nº38 y su superficie es de 5000 metros`\n",
        "\n",
        "`La casa más pequeña está ubicada en Calle Mayor, Nº12 y su superficie es de 200 metros`"
      ]
    },
    {
      "cell_type": "code",
      "execution_count": 37,
      "id": "every-tiffany",
      "metadata": {},
      "outputs": [
        {
          "name": "stdout",
          "output_type": "stream",
          "text": [
            "La casa más grande está ubicada en Sevilla la Nueva y su superficie es de 249000.0 metros\n",
            "La casa más pequeña está ubicada en Calle Amparo,  Madrid Capital y su superficie es de 15.0 metros\n"
          ]
        }
      ],
      "source": [
        "# TODO\n",
        "casaGrande = ds['surface'].max()\n",
        "casaUbicacion = ds.loc[ds['surface' ].idxmax(), 'address'] \n",
        "\n",
        "casaPeque = ds['surface'].min()\n",
        "casaPequeUbicación = ds.loc[ds['surface' ].idxmin(), 'address'] \n",
        "\n",
        "print(\"La casa más grande está ubicada en\",casaUbicacion,\"y su superficie es de\",casaGrande, \"metros\")\n",
        "\n",
        "print(\"La casa más pequeña está ubicada en\",casaPequeUbicación,\"y su superficie es de\",casaPeque, \"metros\")"
      ]
    },
    {
      "attachments": {},
      "cell_type": "markdown",
      "id": "danish-spirit",
      "metadata": {},
      "source": [
        "#### Ejercicio 04. ¿Cuantas poblaciones (columna level5) contiene el dataset? (★☆☆)\n",
        "\n",
        "Imprime el nombre de las poblaciones separadas por coma. Por ejemplo:\n",
        "\n",
        "`> print(populations)`\n",
        "\n",
        "`population1, population2, population3, ...`"
      ]
    },
    {
      "cell_type": "code",
      "execution_count": 41,
      "id": "exciting-accreditation",
      "metadata": {},
      "outputs": [
        {
          "name": "stdout",
          "output_type": "stream",
          "text": [
            "Arganda del Rey, Fuenlabrada, Boadilla del Monte, Las Rozas de Madrid,  Madrid Capital, Villaviciosa de Odón, Pinto, Valdemoro, Navalcarnero, Pozuelo de Alarcón, Torrejón de Ardoz, Navalagamella, San Sebastián de los Reyes, Rivas-vaciamadrid, Alpedrete, Móstoles, San Fernando de Henares, Coslada, Becerril de la Sierra, Alcalá de Henares, Chinchón, Parla, Alcorcón, El Escorial, Leganés, Pedrezuela, Majadahonda, Villanueva de la Cañada, Villanueva del Pardillo, Torrelodones, Moralzarzal, Mejorada del Campo, Aranjuez, Corpa, Getafe, Velilla de San Antonio, Sevilla la Nueva, San Martín de la Vega, Villalbilla, Collado Villalba, Alcobendas, El Molar (Madrid), Moraleja de Enmedio, Algete, Campo Real, Torrejón de la Calzada, Colmenar Viejo, Valdemorillo, Fuente El Saz de Jarama, Tres Cantos, Arroyomolinos (Madrid), Griñón, Paracuellos de Jarama, Guadarrama, Titulcia, Galapagar, Collado Mediano, Los Molinos, San Lorenzo de El Escorial, Loeches, San Martín de Valdeiglesias, Navas del Rey, Bustarviejo, Manzanares El Real, Carabaña, Casarrubuelos, Cercedilla, Fresnedillas de la Oliva, Valdemaqueda, Robledo de Chavela, Miraflores de la Sierra, Humanes de Madrid, Valdetorres de Jarama, San Agustín del Guadalix, Ciempozuelos, Camarma de Esteruelas, Torres de la Alameda, Talamanca de Jarama, El Atazar, Hoyo de Manzanares, El Boalo - Cerceda – Mataelpino, El Álamo, Valdilecha, Valdeolmos-Alalpardo, Guadalix de la Sierra, Belmonte de Tajo, El Vellón, Brunete, Redueña, Morata de Tajuña, Tielmes, Gargantilla del Lozoya, Meco, Venturada, Quijorna, Cenicientos, Torrejón de Velasco, Navacerrada, Santa María de la Alameda, Orusco de Tajuña, Daganzo de Arriba, Villamanta, Anchuelo, Valdaracete, Ajalvir, Los Santos de la Humosa, Villamanrique de Tajo, Colmenar de Oreja, Villa del Prado, Fuentidueña de Tajo, Colmenar del Arroyo, Valdelaguna, Cubas de la Sagra, Valdeavero, Aldea del Fresno, Ribatejada, Torrelaguna, Batres, Pezuela de las Torres, Colmenarejo, Serranillos del Valle, Cobeña, Soto del Real, El Berrueco, Villanueva de Perales, Fresno de Torote - Serracines, Pozuelo del Rey, Pelayos de la Presa, La Cabrera, Nuevo Baztán, Perales de Tajuña, Villaconejos, Villarejo de Salvanés, Cadalso de los Vidrios, Santorcaz, Madarcos, Garganta de los Montes, Puentes Viejas, Torremocha de Jarama, Valdemanco, Braojos, Lozoyuela-navas-sieteiglesias, Piñuécar-gandullas, Valdepiélagos, Valverde de Alcalá, Villar del Olmo, Villamantilla, Horcajo de la Sierra, Gascones, Zarzalejo, Villavieja del Lozoya, Brea de Tajo, Estremera, Chapinería, Navarredonda, Patones, Ambite, Navalafuente, Lozoya, Canencia, Cabanillas de la Sierra, Buitrago del Lozoya, Fresno de Torote, Robregordo, Pinilla del Valle, Rascafría, La Hiruela, Montejo de la Sierra\n"
          ]
        }
      ],
      "source": [
        "# TODO\n",
        "population = ds[\"level5\"].unique()\n",
        "print(\", \".join(population))"
      ]
    },
    {
      "attachments": {},
      "cell_type": "markdown",
      "id": "crazy-blame",
      "metadata": {},
      "source": [
        "#### Ejercicio 05. ¿El dataset contiene valores no admitidos (NAs)? (★☆☆)\n",
        "\n",
        "Imprima un booleano (`True` o `False`) seguido de la fila/columna que contiene el NAs."
      ]
    },
    {
      "cell_type": "code",
      "execution_count": 27,
      "id": "transparent-poetry",
      "metadata": {},
      "outputs": [
        {
          "name": "stdout",
          "output_type": "stream",
          "text": [
            "       Unnamed: 0  id_realEstates  isNew  url_inmueble  price   date  address  \\\n",
            "0           False           False  False         False  False  False    False   \n",
            "1           False           False  False         False  False  False    False   \n",
            "2           False           False  False         False  False  False    False   \n",
            "3           False           False  False         False  False  False    False   \n",
            "4           False           False  False         False  False  False    False   \n",
            "...           ...             ...    ...           ...    ...    ...      ...   \n",
            "15330       False           False  False         False  False  False    False   \n",
            "15331       False           False  False         False  False  False    False   \n",
            "15332       False           False  False         False  False  False    False   \n",
            "15333       False           False  False         False  False  False    False   \n",
            "15334       False           False  False         False  False  False    False   \n",
            "\n",
            "       country  level1  level2  ...  level2Id  level3Id  level4Id  level5Id  \\\n",
            "0        False   False   False  ...     False     False     False     False   \n",
            "1        False   False   False  ...     False     False     False     False   \n",
            "2        False   False   False  ...     False     False     False     False   \n",
            "3        False   False   False  ...     False     False     False     False   \n",
            "4        False   False   False  ...     False     False     False     False   \n",
            "...        ...     ...     ...  ...       ...       ...       ...       ...   \n",
            "15330    False   False   False  ...     False     False     False     False   \n",
            "15331    False   False   False  ...     False     False     False     False   \n",
            "15332    False   False   False  ...     False     False     False     False   \n",
            "15333    False   False   False  ...     False     False     False     False   \n",
            "15334    False   False   False  ...     False     False     False     False   \n",
            "\n",
            "       level6Id  level7Id  level8Id  accuracy  latitude  longitude  \n",
            "0         False     False     False     False     False      False  \n",
            "1         False     False     False     False     False      False  \n",
            "2         False     False     False     False     False      False  \n",
            "3         False     False     False     False     False      False  \n",
            "4         False     False     False     False     False      False  \n",
            "...         ...       ...       ...       ...       ...        ...  \n",
            "15330     False     False     False     False     False      False  \n",
            "15331     False     False     False     False     False      False  \n",
            "15332     False     False     False     False     False      False  \n",
            "15333     False     False     False     False     False      False  \n",
            "15334     False     False     False     False     False      False  \n",
            "\n",
            "[15335 rows x 25 columns]\n"
          ]
        }
      ],
      "source": [
        "# TODO\n",
        "nas = ds.isna()\n",
        "print(nas)"
      ]
    },
    {
      "attachments": {},
      "cell_type": "markdown",
      "id": "italic-hydrogen",
      "metadata": {},
      "source": [
        "#### Ejercicio 06. Elimina los NAs del dataset, si aplica (★★☆)\n",
        "\n",
        "Imprima una comparación entre las dimensiones del DataFrame original versus el DataFrame después de las eliminaciones.\n"
      ]
    },
    {
      "cell_type": "code",
      "execution_count": 25,
      "id": "administrative-roads",
      "metadata": {},
      "outputs": [
        {
          "name": "stdout",
          "output_type": "stream",
          "text": [
            "Antes la cantidad de filas, columnas era de: (15335, 37) ahora la cantidad es de: (15335, 35)\n"
          ]
        }
      ],
      "source": [
        "# TODO\n",
        "#lena = len(ds)\n",
        "shape = ds.shape\n",
        "#Eliminamos si todos los valores son NAn en la fila seleccionada si pongo axis = 0 miraria que la columna entera sea Nan, en este caso he borrado dos filas\n",
        "ds = ds.dropna(axis=1, how='all')\n",
        "#lenb = len(ds)\n",
        "shape2 = ds.shape\n",
        "print(\"Antes la cantidad de filas, columnas era de:\", shape, \"ahora la cantidad es de:\", shape2)"
      ]
    },
    {
      "attachments": {},
      "cell_type": "markdown",
      "id": "middle-china",
      "metadata": {},
      "source": [
        "#### Ejercicio 07. ¿Cuál la media de precios en la población (columna level5) de \"Arroyomolinos (Madrid)\"? (★★☆)\n",
        "\n",
        "Imprima el valor obtenido."
      ]
    },
    {
      "cell_type": "code",
      "execution_count": 71,
      "id": "nuclear-belief",
      "metadata": {},
      "outputs": [
        {
          "name": "stdout",
          "output_type": "stream",
          "text": [
            "La media es de: 294541.59854014596 € en Arroyomolinos (Madrid)\n"
          ]
        }
      ],
      "source": [
        "# TODO\n",
        "media = ds.loc[ds[\"level5\"]==\"Arroyomolinos (Madrid)\", \"price\"].mean()\n",
        "#Si no pongo print sale float, bastante raro queda mejor asi\n",
        "print(\"La media es de:\", media, \"€ en Arroyomolinos (Madrid)\")"
      ]
    },
    {
      "attachments": {},
      "cell_type": "markdown",
      "id": "concerned-radical",
      "metadata": {},
      "source": [
        "#### Ejercicio 08. Trazar el histograma de los precios para la población (level5 column) de \"Arroyomolinos (Madrid)\" y explica qué observas (★★☆)\n",
        "\n",
        "Imprime el histograma de los precios y escribe en la celda del Markdown un breve análisis del trazado.\n"
      ]
    },
    {
      "cell_type": "code",
      "execution_count": null,
      "id": "sudden-message",
      "metadata": {},
      "outputs": [
        {
          "data": {
            "image/png": "[encoded data removed]",
            "text/plain": [
              "<Figure size 640x480 with 1 Axes>"
            ]
          },
          "metadata": {},
          "output_type": "display_data"
        }
      ],
      "source": [
        "# TODO: Code\n",
        "import matplotlib.pyplot as plt\n",
        "\n",
        "data = ds[ds['level5'] == \"Arroyomolinos (Madrid)\"]\n",
        "plt.hist(data['price'], bins=40, edgecolor='blue', color = \"red\")\n",
        "plt.xlabel('Precio (€)')\n",
        "plt.ylabel('Cantidad')\n",
        "plt.show() \n",
        "\n",
        "#Podemos observar que lo más común es que los precios vayan desde los 20.000€ a los casi 40.000€.\n",
        "#Después hay varios valores que se desbían más hacia arriba y un valor atipico que es el 0.\n",
        "#La mediana está en unos 28.000€ que es el valor que más se repite en el gráfico."
      ]
    },
    {
      "attachments": {},
      "cell_type": "markdown",
      "id": "impressed-combination",
      "metadata": {},
      "source": [
        "**TODO: Markdown**. Para escribir aquí, haz doble clic en esta celda, elimina este contenido y coloca lo que quieras escribir. Luego ejecuta la celda."
      ]
    },
    {
      "attachments": {},
      "cell_type": "markdown",
      "id": "actual-edinburgh",
      "metadata": {},
      "source": [
        "#### Ejercicio 09. ¿Son los precios promedios de \"Valdemorillo\" y \"Galapagar\" los mismos? (★★☆)\n",
        "\n",
        "Imprime ambos promedios y escribe una conclusión sobre ellos."
      ]
    },
    {
      "cell_type": "code",
      "execution_count": 92,
      "id": "numeric-commerce",
      "metadata": {},
      "outputs": [
        {
          "name": "stdout",
          "output_type": "stream",
          "text": [
            "La media de Valemorillo es de : 363860.2931034483 y la media de Galapagar es de: 360063.20238095237\n",
            "La diferencia entre ambos es de: 3797.090722495923 es decir Valemorillo es 3797.090722495923 € más cara que Galapagar\n"
          ]
        }
      ],
      "source": [
        "# TODO\n",
        "mediaV = ds.loc[ds[\"level5\"]==\"Valdemorillo\", \"price\"].mean()\n",
        "mediaG = ds.loc[ds[\"level5\"]==\"Galapagar\", \"price\"].mean()\n",
        "diferencia = mediaV - mediaG\n",
        "\n",
        "print(\"La media de Valemorillo es de :\", mediaV, \"y la media de Galapagar es de:\", mediaG)\n",
        "print(\"La diferencia entre ambos es de:\", diferencia, \"es decir Valemorillo es\", diferencia, \"€ más cara que Galapagar\")"
      ]
    },
    {
      "attachments": {},
      "cell_type": "markdown",
      "id": "lonely-article",
      "metadata": {},
      "source": [
        "#### Ejercicio 10. ¿Son los promedios de precio por metro cuadrado (precio/m2) de \"Valdemorillo\" y \"Galapagar\" los mismos? (★★☆)\n",
        "\n",
        "Imprime ambos promedios de precio por metro cuadrado y escribe una conclusión sobre ellos.\n",
        "\n",
        "Pista: Crea una nueva columna llamada `pps` (*price per square* o precio por metro cuadrado) y luego analiza los valores."
      ]
    },
    {
      "cell_type": "code",
      "execution_count": 113,
      "id": "hourly-globe",
      "metadata": {},
      "outputs": [
        {
          "name": "stdout",
          "output_type": "stream",
          "text": [
            "El precio medio por metro cuadrado de Valdemorillo es de: 1039.5447972876266 el de Galapagar es de: 1178.5257998852853\n",
            "Podemos ver que la diferencia es de 138.98100259765874 Valdemorillo es normalmente más cara que Galapagar pero es más barata por metro cuadrado que las casas de Valdemorillo \n",
            "Esto ocurre por que las casas de Valdemorillo con una media de tamaño de: 350.0188679245283 ,son bastante más grandes que la media de tamaño que las de Galapagar con media de: 305.52\n",
            "Conclusión una casa del mismo tamaño será más barata en Valdemorillo que en Galapagar pese a este segundo tener mejor media de precios\n"
          ]
        }
      ],
      "source": [
        "# TODO\n",
        "mediaV = ds.loc[ds[\"level5\"]==\"Valdemorillo\", \"price\"].mean()\n",
        "mediaG = ds.loc[ds[\"level5\"]==\"Galapagar\", \"price\"].mean()\n",
        "ppV = ds.loc[ds[\"level5\"] == \"Valdemorillo\", \"surface\"].mean()\n",
        "ppG = ds.loc[ds[\"level5\"] == \"Galapagar\", \"surface\"].mean()\n",
        "\n",
        "preciom2Valde = mediaV / ppV\n",
        "preciom2Gala = mediaG / ppG\n",
        "\n",
        "diferencia = abs(preciom2Valde - preciom2Gala)\n",
        "print(\"El precio medio por metro cuadrado de Valdemorillo es de:\",preciom2Valde, \"el de Galapagar es de:\", preciom2Gala)\n",
        "print(\"Podemos ver que la diferencia es de\",diferencia, \"Valdemorillo es normalmente más cara que Galapagar pero es más barata por metro cuadrado que las casas de Valdemorillo \")\n",
        "print(\"Esto ocurre por que las casas de Valdemorillo con una media de tamaño de:\",ppV,\",son bastante más grandes que la media de tamaño que las de Galapagar con media de:\", ppG)\n",
        "print(\"Conclusión una casa del mismo tamaño será más barata en Valdemorillo que en Galapagar pese a este segundo tener mejor media de precios\")"
      ]
    },
    {
      "attachments": {},
      "cell_type": "markdown",
      "id": "pleasant-invite",
      "metadata": {},
      "source": [
        "#### Ejercicio 11. Analiza la relación entre la superficie y el precio de las casas. (★★☆)\n",
        "\n",
        "Pista: Puedes hacer un `scatter plot` y luego escribir una conclusión al respecto."
      ]
    },
    {
      "cell_type": "code",
      "execution_count": 9,
      "id": "common-drilling",
      "metadata": {},
      "outputs": [
        {
          "data": {
            "image/png": "[encoded data removed]",
            "text/plain": [
              "<Figure size 640x480 with 1 Axes>"
            ]
          },
          "metadata": {},
          "output_type": "display_data"
        },
        {
          "name": "stdout",
          "output_type": "stream",
          "text": [
            "Se han quitado valores anomalos poniendo < 5.000 para que quede el gráfico más ajustado\n",
            "Podemos ver que la mayoria de superficies están en los valores menos a mil que es lo normal y luego hay algunas más grandes\n",
            "Cuanto más sube el precio o la superficie más baja la cantidad de casas en la gráfica.\n"
          ]
        }
      ],
      "source": [
        "# TODO: Código\n",
        "import matplotlib.pyplot as plt\n",
        "\n",
        "ds1 = ds[ds.surface < 5000]\n",
        "plt.scatter(ds1[\"surface\"], ds1[\"price\"], alpha=0.5, color='blue')\n",
        "\n",
        "plt.xlabel('m²')\n",
        "plt.ylabel('Precio')\n",
        "plt.title('Superficie y precio')\n",
        "plt.show()\n",
        "\n",
        "print(\"Se han quitado valores anomalos poniendo < 5.000 para que quede el gráfico más ajustado\")\n",
        "print(\"Podemos ver que la mayoria de superficies están en los valores menos a mil que es lo normal y luego hay algunas más grandes\")\n",
        "print(\"Cuanto más sube el precio o la superficie más baja la cantidad de casas en la gráfica.\")"
      ]
    },
    {
      "attachments": {},
      "cell_type": "markdown",
      "id": "ahead-liquid",
      "metadata": {},
      "source": [
        "**TODO: Markdown**. Para escribir aquí, haz doble clic en esta celda, elimina este contenido y coloca lo que quieras escribir. Luego ejecuta la celda."
      ]
    },
    {
      "attachments": {},
      "cell_type": "markdown",
      "id": "coordinate-sunrise",
      "metadata": {},
      "source": [
        "#### Ejercicio 12. ¿Cuántas agencia de bienes raíces contiene el dataset? (★★☆)\n",
        "\n",
        "Imprime el valor obtenido."
      ]
    },
    {
      "cell_type": "code",
      "execution_count": 153,
      "id": "valid-honolulu",
      "metadata": {},
      "outputs": [
        {
          "name": "stdout",
          "output_type": "stream",
          "text": [
            "Hay 14217 agencias de bienes raíces\n"
          ]
        }
      ],
      "source": [
        "# TODO\n",
        "leno = len(ds[\"id_realEstates\"].unique())\n",
        "print(\"Hay\", leno, \"agencias de bienes raíces\")\n"
      ]
    },
    {
      "attachments": {},
      "cell_type": "markdown",
      "id": "binding-ebony",
      "metadata": {},
      "source": [
        "#### Ejercicio 13. ¿Cuál es la población (columna level5) que contiene la mayor cantidad de casas?(★★☆)\n",
        "\n",
        "Imprima la población y el número de casas."
      ]
    },
    {
      "cell_type": "code",
      "execution_count": 165,
      "id": "static-perry",
      "metadata": {},
      "outputs": [
        {
          "name": "stdout",
          "output_type": "stream",
          "text": [
            "La población que contiene más casas es:  Madrid Capital tiene: 6643 casas\n"
          ]
        }
      ],
      "source": [
        "# TODO\n",
        "data = ds['level5'].value_counts().idxmax()\n",
        "max = ds['level5'].value_counts().max()\n",
        "print(\"La población que contiene más casas es:\",data, \"tiene:\",max, \"casas\")"
      ]
    },
    {
      "attachments": {},
      "cell_type": "markdown",
      "id": "entire-classification",
      "metadata": {},
      "source": [
        "#### Ejercicio 14. Ahora vamos a trabajar con el \"cinturón sur\" de Madrid. Haz un subconjunto del DataFrame original que contenga las siguientes poblaciones (columna level5): \"Fuenlabrada\", \"Leganés\", \"Getafe\", \"Alcorcón\" (★★☆)\n",
        "\n",
        "Pista: Filtra el DataFrame original usando la columna `level5` y la función `isin`."
      ]
    },
    {
      "cell_type": "code",
      "execution_count": 28,
      "id": "binary-input",
      "metadata": {},
      "outputs": [
        {
          "name": "stdout",
          "output_type": "stream",
          "text": [
            "       Unnamed: 0  id_realEstates  isNew  \\\n",
            "1               2       153867863  False   \n",
            "3               4       152776331  False   \n",
            "85             86       153152077  False   \n",
            "94             95       153995577  False   \n",
            "109           110       153586414  False   \n",
            "...           ...             ...    ...   \n",
            "15275       15276       153903887  False   \n",
            "15291       15292       151697757  False   \n",
            "15305       15306       153902389  False   \n",
            "15322       15323       153871864  False   \n",
            "15325       15326       153901467  False   \n",
            "\n",
            "                                 realEstate_name  phone_realEstate  \\\n",
            "1              tecnocasa fuenlabrada ferrocarril       916358736.0   \n",
            "3              tecnocasa fuenlabrada ferrocarril       916358736.0   \n",
            "85                       sinergical inmobiliaria               NaN   \n",
            "94                               viviendas365com       911226014.0   \n",
            "109              area uno asesores inmobiliarios       912664081.0   \n",
            "...                                          ...               ...   \n",
            "15275  aliseda servicios de gestion inmobiliaria       911368198.0   \n",
            "15291                                    unipiso       912788631.0   \n",
            "15305                             jadein ferrero       914871639.0   \n",
            "15322                          gestion comercial       911220662.0   \n",
            "15325                              montehogar 68       911790675.0   \n",
            "\n",
            "                                            url_inmueble  rooms  bathrooms  \\\n",
            "1      https://www.fotocasa.es/es/comprar/vivienda/ma...    3.0        1.0   \n",
            "3      https://www.fotocasa.es/es/comprar/vivienda/ma...    3.0        1.0   \n",
            "85     https://www.fotocasa.es/es/comprar/vivienda/le...    1.0        1.0   \n",
            "94     https://www.fotocasa.es/es/comprar/vivienda/le...    3.0        2.0   \n",
            "109    https://www.fotocasa.es/es/comprar/vivienda/ma...    3.0        3.0   \n",
            "...                                                  ...    ...        ...   \n",
            "15275  https://www.fotocasa.es/es/comprar/vivienda/al...    3.0        1.0   \n",
            "15291  https://www.fotocasa.es/es/comprar/vivienda/al...    3.0        2.0   \n",
            "15305  https://www.fotocasa.es/es/comprar/vivienda/ma...    3.0        2.0   \n",
            "15322  https://www.fotocasa.es/es/comprar/vivienda/ma...    3.0        1.0   \n",
            "15325  https://www.fotocasa.es/es/comprar/vivienda/ma...    2.0        2.0   \n",
            "\n",
            "       surface   price  ... level2Id level3Id level4Id level5Id level6Id  \\\n",
            "1          NaN   89000  ...        0        0        0        0        0   \n",
            "3         86.0   89000  ...        0        0        0        0        0   \n",
            "85        50.0  107000  ...        0        0        0        0        0   \n",
            "94       120.0  320000  ...        0        0        0        0        0   \n",
            "109      142.0  425000  ...        0        0        0        0        0   \n",
            "...        ...     ...  ...      ...      ...      ...      ...      ...   \n",
            "15275     78.0  138000  ...        0        0        0        0        0   \n",
            "15291    110.0  279000  ...        0        0        0        0        0   \n",
            "15305     85.0  170000  ...        0        0        0        0        0   \n",
            "15322     91.0  112000  ...        0        0        0        0        0   \n",
            "15325     99.0  215000  ...        0        0        0        0        0   \n",
            "\n",
            "      level7Id level8Id accuracy          latitude          longitude  \n",
            "1            0        0        1          40,28674           -3,79351  \n",
            "3            0        0        0  40,2853785786438  -3,79508142135624  \n",
            "85           0        0        1          40,35059           -3,82693  \n",
            "94           0        0        0          40,31933           -3,77574  \n",
            "109          0        0        0        40,3313411         -3,8313868  \n",
            "...        ...      ...      ...               ...                ...  \n",
            "15275        0        0        1          40,31381           -3,83733  \n",
            "15291        0        0        0        40,3259051           -3,76318  \n",
            "15305        0        0        0        40,2882193         -3,8098617  \n",
            "15322        0        0        0          40,28282           -3,78892  \n",
            "15325        0        0        1          40,28062           -3,79869  \n",
            "\n",
            "[907 rows x 35 columns]\n"
          ]
        }
      ],
      "source": [
        "# TODO\n",
        "sur = ds[ds['level5'].isin([\"Fuenlabrada\", \"Leganés\", \"Getafe\", \"Alcorcón\"])] \n",
        "print (sur)"
      ]
    },
    {
      "attachments": {},
      "cell_type": "markdown",
      "id": "severe-fisher",
      "metadata": {},
      "source": [
        "#### Ejercicio 15. Traza un gráfico de barras de la mediana de los precios y explica lo que observas (debes usar el subconjunto obtenido del Ejercicio 14) (★★★)\n",
        "\n",
        "Imprima un gráfico de barras de la mediana de precios y escriba en la celda Markdown un breve análisis sobre el gráfico."
      ]
    },
    {
      "cell_type": "code",
      "execution_count": 20,
      "id": "lyric-bunch",
      "metadata": {},
      "outputs": [
        {
          "data": {
            "image/png": "[encoded data removed]",
            "text/plain": [
              "<Figure size 640x480 with 1 Axes>"
            ]
          },
          "metadata": {},
          "output_type": "display_data"
        }
      ],
      "source": [
        "import matplotlib.pyplot as plt\n",
        "\n",
        "\n",
        "median_prices = sur.groupby('level5')['price'].median() \n",
        "\n",
        "plt.bar(x=median_prices.index, height=median_prices.values) \n",
        "\n",
        "plt.xlabel('Ciudad') \n",
        "plt.ylabel('Mediana') \n",
        "plt.title('Mediana de precios en Sur de Madrid') \n",
        "plt.tight_layout()\n",
        "plt.show()"
      ]
    },
    {
      "attachments": {},
      "cell_type": "markdown",
      "id": "sublime-newspaper",
      "metadata": {},
      "source": [
        "**TODO: Markdown**. Para escribir aquí, haz doble clic en esta celda, elimina este contenido y coloca lo que quieras escribir. Luego ejecuta la celda."
      ]
    },
    {
      "attachments": {},
      "cell_type": "markdown",
      "id": "speaking-diamond",
      "metadata": {},
      "source": [
        "#### Ejercicio 16. Calcula la media y la varianza de muestra para las siguientes variables: precio, habitaciones, superficie y baños (debes usar el subconjunto obtenido del Ejercicio 14) (★★★)\n",
        "\n",
        "Imprime ambos valores por cada variable."
      ]
    },
    {
      "cell_type": "code",
      "execution_count": 23,
      "id": "random-feeling",
      "metadata": {},
      "outputs": [
        {
          "name": "stdout",
          "output_type": "stream",
          "text": [
            "El precio medio de la zona del sur sur de Madrid  es de: 223094.48070562293 y la varianza es de: 14921367508.04902\n",
            "La media de habitaciones de la zona del sur sur de Madrid  es de: 3.0177383592017737 y la varianza es de: 0.7188858892927542\n",
            "La media de metros de la zona del sur sur de Madrid  es de: 111.75222363405337 y la varianza es de: 4263.051760316337\n",
            "La media de baños de la zona del sur de Madrid es de: 1.633221850613155 y la varianza es de: 0.5717968625577321\n"
          ]
        }
      ],
      "source": [
        "# TODO\n",
        "precioMedia = sur[\"price\"].mean()\n",
        "habMedia = sur[\"rooms\"].mean()\n",
        "supMedia = sur[\"surface\"].mean()\n",
        "bathMedia = sur[\"bathrooms\"].mean()\n",
        "\n",
        "precioVar = sur[\"price\"].var()\n",
        "habVar = sur[\"rooms\"].var()\n",
        "supVar = sur[\"surface\"].var()\n",
        "bathVar = sur[\"bathrooms\"].var()\n",
        "\n",
        "print(\"El precio medio de la zona del sur sur de Madrid  es de:\", precioMedia, \"y la varianza es de:\", precioVar)\n",
        "print(\"La media de habitaciones de la zona del sur sur de Madrid  es de:\", habMedia, \"y la varianza es de:\", habVar)\n",
        "print(\"La media de metros de la zona del sur sur de Madrid  es de:\", supMedia, \"y la varianza es de:\", supVar)\n",
        "print(\"La media de baños de la zona del sur de Madrid es de:\", bathMedia, \"y la varianza es de:\", bathVar)"
      ]
    },
    {
      "attachments": {},
      "cell_type": "markdown",
      "id": "revolutionary-matrix",
      "metadata": {},
      "source": [
        "#### Ejercicio 17. ¿Cuál es la casa más cara de cada población? Debes usar el subset obtenido en la pregunta 14 (★★☆)\n",
        "\n",
        "Imprime tanto la dirección como el precio de la casa seleccionada de cada población. Puedes imprimir un DataFrame o una sola línea para cada población."
      ]
    },
    {
      "cell_type": "code",
      "execution_count": 34,
      "id": "fifteen-browse",
      "metadata": {},
      "outputs": [
        {
          "name": "stdout",
          "output_type": "stream",
          "text": [
            "La casa más cara en Fuenlabrada:\n",
            "       Unnamed: 0  id_realEstates  isNew realEstate_name  phone_realEstate  \\\n",
            "11561       11562       153660921  False     unna madrid       912780846.0   \n",
            "\n",
            "                                            url_inmueble  rooms  bathrooms  \\\n",
            "11561  https://www.fotocasa.es/es/comprar/vivienda/va...    4.0        3.0   \n",
            "\n",
            "       surface   price  ... level2Id level3Id level4Id level5Id level6Id  \\\n",
            "11561    274.0  490000  ...        0        0        0        0        0   \n",
            "\n",
            "      level7Id level8Id accuracy  latitude longitude  \n",
            "11561        0        0        1  40,28286  -3,81475  \n",
            "\n",
            "[1 rows x 35 columns]\n",
            "La casa más cara en Leganés:\n",
            "       Unnamed: 0  id_realEstates  isNew  \\\n",
            "10412       10413       152251506  False   \n",
            "\n",
            "                               realEstate_name  phone_realEstate  \\\n",
            "10412  bafre gestion y servicios inmobiliarios       910752245.0   \n",
            "\n",
            "                                            url_inmueble  rooms  bathrooms  \\\n",
            "10412  https://www.fotocasa.es/es/comprar/vivienda/co...    6.0        5.0   \n",
            "\n",
            "       surface   price  ... level2Id level3Id level4Id level5Id level6Id  \\\n",
            "10412    360.0  650000  ...        0        0        0        0        0   \n",
            "\n",
            "      level7Id level8Id accuracy          latitude          longitude  \n",
            "10412        0        0        0  40,3423636291504  -3,74814414978027  \n",
            "\n",
            "[1 rows x 35 columns]\n",
            "La casa más cara en Getafe:\n",
            "      Unnamed: 0  id_realEstates  isNew          realEstate_name  \\\n",
            "2881        2882       151105544  False  unna grupo inmobiliario   \n",
            "\n",
            "      phone_realEstate                                       url_inmueble  \\\n",
            "2881       912665694.0  https://www.fotocasa.es/es/comprar/vivienda/ma...   \n",
            "\n",
            "      rooms  bathrooms  surface    price  ... level2Id level3Id level4Id  \\\n",
            "2881    6.0        4.0    600.0  1050000  ...        0        0        0   \n",
            "\n",
            "     level5Id level6Id level7Id level8Id accuracy         latitude  \\\n",
            "2881        0        0        0        0        0  40,302820239187   \n",
            "\n",
            "             longitude  \n",
            "2881  -3,7281704612835  \n",
            "\n",
            "[1 rows x 35 columns]\n",
            "La casa más cara en Alcorcón:\n",
            "      Unnamed: 0  id_realEstates  isNew            realEstate_name  \\\n",
            "5585        5586       153275915  False  100 home red inmobiliaria   \n",
            "\n",
            "      phone_realEstate                                       url_inmueble  \\\n",
            "5585       912669623.0  https://www.fotocasa.es/es/comprar/vivienda/ca...   \n",
            "\n",
            "      rooms  bathrooms  surface   price  ... level2Id level3Id level4Id  \\\n",
            "5585    6.0        6.0    722.0  950000  ...        0        0        0   \n",
            "\n",
            "     level5Id level6Id level7Id level8Id accuracy    latitude   longitude  \n",
            "5585        0        0        0        0        0  40,3535169  -3,8664683  \n",
            "\n",
            "[1 rows x 35 columns]\n"
          ]
        }
      ],
      "source": [
        "ciudades = [\"Fuenlabrada\", \"Leganés\", \"Getafe\", \"Alcorcón\"]\n",
        "casas_mas_caras = {}\n",
        "\n",
        "for ciudad in ciudades:\n",
        "    casas_ciudad = sur[sur['level5'] == ciudad]\n",
        "    precio_maximo = casas_ciudad['price'].max()\n",
        "\n",
        "    casa_mas_cara = casas_ciudad[casas_ciudad['price'] == precio_maximo]\n",
        "    casas_mas_caras[ciudad] = casa_mas_cara\n",
        "\n",
        "for ciudad, casa in casas_mas_caras.items():\n",
        "    print(f\"La casa más cara en {ciudad}:\")\n",
        "    print(casa)\n",
        "\n",
        "indice_max_precio = sur.groupby('level5')['price'].idxmax()\n",
        "\n",
        "casas_mas_caras_df = sur.loc[indice_max_precio]\n",
        "\n",
        "\n"
      ]
    },
    {
      "attachments": {},
      "cell_type": "markdown",
      "id": "activated-knight",
      "metadata": {},
      "source": [
        "#### Ejercicio 18. Normaliza la variable de precios para cada población y traza los 4 histogramas en el mismo gráfico (debes usar el subconjunto obtenido en la pregunta 14) (★★★)\n",
        "\n",
        "Para el método de normalización, puedes usar el que consideres adecuado, no hay una única respuesta correcta para esta pregunta. Imprime el gráfico y escribe en la celda de Markdown un breve análisis sobre el gráfico.\n",
        "\n",
        "Pista: Puedes ayudarte revisando la demostración multihist de Matplotlib."
      ]
    },
    {
      "cell_type": "code",
      "execution_count": 41,
      "id": "civic-meditation",
      "metadata": {},
      "outputs": [
        {
          "name": "stderr",
          "output_type": "stream",
          "text": [
            "/tmp/ipykernel_620/4152163770.py:1: SettingWithCopyWarning: \n",
            "A value is trying to be set on a copy of a slice from a DataFrame.\n",
            "Try using .loc[row_indexer,col_indexer] = value instead\n",
            "\n",
            "See the caveats in the documentation: https://pandas.pydata.org/pandas-docs/stable/user_guide/indexing.html#returning-a-view-versus-a-copy\n",
            "  sur['price_normalized'] = sur.groupby('level5')['price'].transform(lambda x: (x - x.min()) / (x.max() - x.min()))\n"
          ]
        },
        {
          "data": {
            "image/png": "[encoded data removed]",
            "text/plain": [
              "<Figure size 1000x600 with 1 Axes>"
            ]
          },
          "metadata": {},
          "output_type": "display_data"
        },
        {
          "name": "stdout",
          "output_type": "stream",
          "text": [
            "Se puede observar que claramente hay más casas baratas que caras, después podemos ver que fuenlabrada es la más cara con más casas aunque alcorcón llega hasta ahí no tiene tanta cantidad\n",
            "Por lo demás la mayoría de casas están entre 0 y 0,4 y después de ahí hay una bajada abismal.\n"
          ]
        }
      ],
      "source": [
        "\n",
        "sur['price_normalized'] = sur.groupby('level5')['price'].transform(lambda x: (x - x.min()) / (x.max() - x.min()))\n",
        "\n",
        "\n",
        "plt.figure(figsize=(10, 6)) \n",
        "\n",
        "ciudades = [\"Fuenlabrada\", \"Leganés\", \"Getafe\", \"Alcorcón\"]\n",
        "for ciudad in ciudades:\n",
        "    plt.hist(sur[sur['level5'] == ciudad]['price_normalized'], alpha=0.7, label=ciudad)\n",
        "\n",
        "plt.title('Histograma de precios normalizados en el Sur de Madrid')\n",
        "plt.xlabel('Precio normalizado')\n",
        "plt.ylabel('Frecuencia')\n",
        "plt.legend()\n",
        "plt.tight_layout()\n",
        "plt.show()\n",
        "print(\"Se puede observar que claramente hay más casas baratas que caras, después podemos ver que fuenlabrada es la más cara con más casas aunque alcorcón llega hasta ahí no tiene tanta cantidad\")\n",
        "print(\"Por lo demás la mayoría de casas están entre 0 y 0,4 y después de ahí hay una bajada abismal.\")"
      ]
    },
    {
      "attachments": {},
      "cell_type": "markdown",
      "id": "precise-heavy",
      "metadata": {},
      "source": [
        "**TODO: Markdown**. Para escribir aquí, haz doble clic en esta celda, elimina este contenido y coloca lo que quieras escribir. Luego ejecuta la celda."
      ]
    },
    {
      "attachments": {},
      "cell_type": "markdown",
      "id": "patent-jonathan",
      "metadata": {},
      "source": [
        "#### Ejercicio 19. ¿Qué puedes decir sobre el precio por metro cuadrado (precio/m2) entre los municipios de 'Getafe' y 'Alcorcón'? Debes usar el subconjunto obtenido en la pregunta 14 (★★☆)\n",
        "\n",
        "Pista: Crea una nueva columna llamada `pps` (price per square en inglés) y luego analiza los valores"
      ]
    },
    {
      "cell_type": "code",
      "execution_count": 62,
      "id": "initial-liverpool",
      "metadata": {},
      "outputs": [
        {
          "name": "stdout",
          "output_type": "stream",
          "text": [
            "Precio por metro cuadrado en Getafe: 2066.314949251463\n",
            "Precio por metro cuadrado en Alcorcón: 2239.302480199618\n",
            "Se puede observar que el precio es mayor en Alcorcón\n"
          ]
        },
        {
          "name": "stderr",
          "output_type": "stream",
          "text": [
            "/tmp/ipykernel_620/3073511699.py:1: SettingWithCopyWarning: \n",
            "A value is trying to be set on a copy of a slice from a DataFrame.\n",
            "Try using .loc[row_indexer,col_indexer] = value instead\n",
            "\n",
            "See the caveats in the documentation: https://pandas.pydata.org/pandas-docs/stable/user_guide/indexing.html#returning-a-view-versus-a-copy\n",
            "  sur['pps'] = sur['price'] / sur['surface']\n"
          ]
        }
      ],
      "source": [
        "sur['pps'] = sur['price'] / sur['surface']\n",
        "\n",
        "getafe_alcorcon = sur[sur['level5'].isin([\"Getafe\", \"Alcorcón\"])]\n",
        "\n",
        "\n",
        "getafeDif = getafe_alcorcon[getafe_alcorcon['level5'] == 'Getafe']['pps'].mean()\n",
        "alcorconDif = getafe_alcorcon[getafe_alcorcon['level5'] == 'Alcorcón']['pps'].mean()\n",
        "\n",
        "print(\"Precio por metro cuadrado en Getafe:\", getafeDif)\n",
        "print(\"Precio por metro cuadrado en Alcorcón:\", alcorconDif)\n",
        "print(\"Se puede observar que el precio es mayor en Alcorcón\")"
      ]
    },
    {
      "attachments": {},
      "cell_type": "markdown",
      "id": "enhanced-moscow",
      "metadata": {},
      "source": [
        "#### Ejercicio 20. Realiza el mismo gráfico para 4 poblaciones diferentes (columna level5) y colócalos en el mismo gráfico. Debes usar el subconjunto obtenido en la pregunta 14 (★★☆) \n",
        "Pista: Haz un diagrama de dispersión de cada población usando subgráficos (subplots)."
      ]
    },
    {
      "cell_type": "code",
      "execution_count": 64,
      "id": "accepting-airfare",
      "metadata": {},
      "outputs": [
        {
          "data": {
            "image/png": "[encoded data removed]",
            "text/plain": [
              "<Figure size 1000x600 with 1 Axes>"
            ]
          },
          "metadata": {},
          "output_type": "display_data"
        }
      ],
      "source": [
        "plt.figure(figsize=(10, 6))  \n",
        "\n",
        "ciudades = [\"Fuenlabrada\", \"Leganés\", \"Getafe\", \"Alcorcón\"]\n",
        "for ciudad in ciudades:\n",
        "    plt.hist(sur[sur['level5'] == ciudad]['price'], alpha=0.7, label=ciudad)\n",
        "\n",
        "plt.title('Histograma de precios en el Sur de Madrid')\n",
        "plt.xlabel('Precio (€)')\n",
        "plt.ylabel('Frecuencia')\n",
        "plt.legend()\n",
        "plt.tight_layout()\n",
        "plt.show()"
      ]
    },
    {
      "attachments": {},
      "cell_type": "markdown",
      "id": "blocked-effects",
      "metadata": {},
      "source": [
        "#### Ejercicio 21. Realiza un trazado de las coordenadas (columnas latitud y longitud) del cinturón sur de Madrid por color de cada población (debes usar el subconjunto obtenido del Ejercicio 14) (★★★★)\n",
        "\n",
        "Ejecuta la siguiente celda y luego comienza a codear en la siguiente. Debes implementar un código simple que transforme las columnas de coordenadas en un diccionario de Python (agrega más información si es necesario) y agrégala al mapa."
      ]
    },
    {
      "cell_type": "code",
      "execution_count": 11,
      "id": "headed-privacy",
      "metadata": {},
      "outputs": [
        {
          "ename": "AttributeError",
          "evalue": "Stamen",
          "output_type": "error",
          "traceback": [
            "\u001b[0;31m---------------------------------------------------------------------------\u001b[0m",
            "\u001b[0;31mKeyError\u001b[0m                                  Traceback (most recent call last)",
            "File \u001b[0;32m~/.local/lib/python3.11/site-packages/xyzservices/lib.py:45\u001b[0m, in \u001b[0;36mBunch.__getattr__\u001b[0;34m(self, key)\u001b[0m\n\u001b[1;32m     44\u001b[0m \u001b[38;5;28;01mtry\u001b[39;00m:\n\u001b[0;32m---> 45\u001b[0m     \u001b[38;5;28;01mreturn\u001b[39;00m \u001b[38;5;28;43mself\u001b[39;49m\u001b[38;5;241;43m.\u001b[39;49m\u001b[38;5;21;43m__getitem__\u001b[39;49m\u001b[43m(\u001b[49m\u001b[43mkey\u001b[49m\u001b[43m)\u001b[49m\n\u001b[1;32m     46\u001b[0m \u001b[38;5;28;01mexcept\u001b[39;00m \u001b[38;5;167;01mKeyError\u001b[39;00m \u001b[38;5;28;01mas\u001b[39;00m err:\n",
            "\u001b[0;31mKeyError\u001b[0m: 'Stamen'",
            "\nThe above exception was the direct cause of the following exception:\n",
            "\u001b[0;31mAttributeError\u001b[0m                            Traceback (most recent call last)",
            "Cell \u001b[0;32mIn[11], line 6\u001b[0m\n\u001b[1;32m      1\u001b[0m \u001b[38;5;28;01mfrom\u001b[39;00m\u001b[38;5;250m \u001b[39m\u001b[38;5;21;01mipyleaflet\u001b[39;00m\u001b[38;5;250m \u001b[39m\u001b[38;5;28;01mimport\u001b[39;00m Map, basemaps\n\u001b[1;32m      3\u001b[0m \u001b[38;5;66;03m# Mapa centrado en (60 grados latitud y -2.2 grados longitud)\u001b[39;00m\n\u001b[1;32m      4\u001b[0m \u001b[38;5;66;03m# Latitud, longitud\u001b[39;00m\n\u001b[1;32m      5\u001b[0m \u001b[38;5;28mmap\u001b[39m \u001b[38;5;241m=\u001b[39m Map(center \u001b[38;5;241m=\u001b[39m (\u001b[38;5;241m60\u001b[39m, \u001b[38;5;241m-\u001b[39m\u001b[38;5;241m2.2\u001b[39m), zoom \u001b[38;5;241m=\u001b[39m \u001b[38;5;241m2\u001b[39m, min_zoom \u001b[38;5;241m=\u001b[39m \u001b[38;5;241m1\u001b[39m, max_zoom \u001b[38;5;241m=\u001b[39m \u001b[38;5;241m20\u001b[39m, \n\u001b[0;32m----> 6\u001b[0m     basemap\u001b[38;5;241m=\u001b[39m\u001b[43mbasemaps\u001b[49m\u001b[38;5;241;43m.\u001b[39;49m\u001b[43mStamen\u001b[49m\u001b[38;5;241m.\u001b[39mTerrain)\n\u001b[1;32m      7\u001b[0m \u001b[38;5;28mmap\u001b[39m\n",
            "File \u001b[0;32m~/.local/lib/python3.11/site-packages/xyzservices/lib.py:47\u001b[0m, in \u001b[0;36mBunch.__getattr__\u001b[0;34m(self, key)\u001b[0m\n\u001b[1;32m     45\u001b[0m     \u001b[38;5;28;01mreturn\u001b[39;00m \u001b[38;5;28mself\u001b[39m\u001b[38;5;241m.\u001b[39m\u001b[38;5;21m__getitem__\u001b[39m(key)\n\u001b[1;32m     46\u001b[0m \u001b[38;5;28;01mexcept\u001b[39;00m \u001b[38;5;167;01mKeyError\u001b[39;00m \u001b[38;5;28;01mas\u001b[39;00m err:\n\u001b[0;32m---> 47\u001b[0m     \u001b[38;5;28;01mraise\u001b[39;00m \u001b[38;5;167;01mAttributeError\u001b[39;00m(key) \u001b[38;5;28;01mfrom\u001b[39;00m\u001b[38;5;250m \u001b[39m\u001b[38;5;21;01merr\u001b[39;00m\n",
            "\u001b[0;31mAttributeError\u001b[0m: Stamen"
          ]
        }
      ],
      "source": [
        "from ipyleaflet import Map, basemaps\n",
        "\n",
        "# Mapa centrado en (60 grados latitud y -2.2 grados longitud)\n",
        "# Latitud, longitud\n",
        "map = Map(center = (60, -2.2), zoom = 2, min_zoom = 1, max_zoom = 20, \n",
        "    basemap=basemaps.Stamen.Terrain)\n",
        "map"
      ]
    },
    {
      "cell_type": "code",
      "execution_count": 12,
      "id": "present-mistress",
      "metadata": {},
      "outputs": [
        {
          "data": {
            "application/vnd.jupyter.widget-view+json": {
              "model_id": "d024eab9b657433d88a28506b0d0d7b8",
              "version_major": 2,
              "version_minor": 0
            },
            "text/plain": [
              "Map(center=[40.34, -3.75], controls=(ZoomControl(options=['position', 'zoom_in_text', 'zoom_in_title', 'zoom_o…"
            ]
          },
          "execution_count": 12,
          "metadata": {},
          "output_type": "execute_result"
        }
      ],
      "source": [
        "\n",
        "from ipyleaflet import Map, basemaps, CircleMarker\n",
        "\n",
        "\n",
        "\n",
        "sur = ds[ds['level5'].isin([\"Fuenlabrada\", \"Leganés\", \"Getafe\", \"Alcorcón\"])]\n",
        "\n",
        "\n",
        "coordinates = {}\n",
        "for index, row in sur.iterrows():\n",
        "    city = row['level5']\n",
        "    lat = float(row['latitude'].replace(',', '.'))  # conversion\n",
        "    lon = float(row['longitude'].replace(',', '.'))  # conversion\n",
        "    if city not in coordinates:\n",
        "        coordinates[city] = []\n",
        "    coordinates[city].append((lat, lon))\n",
        "\n",
        "\n",
        "color_dict = {\n",
        "    \"Fuenlabrada\": \"blue\",\n",
        "    \"Leganés\": \"green\",\n",
        "    \"Getafe\": \"red\",\n",
        "    \"Alcorcón\": \"orange\"\n",
        "}\n",
        "\n",
        "map = Map(center=(40.34, -3.75), zoom=10, basemap=basemaps.OpenStreetMap.Mapnik) \n",
        "\n",
        "for city, coords in coordinates.items():\n",
        "    for coord in coords:\n",
        "        marker = CircleMarker(location=coord, color=color_dict[city], radius=2)\n",
        "        map.add_layer(marker)\n",
        "\n",
        "map"
      ]
    },
    {
      "cell_type": "code",
      "execution_count": null,
      "id": "44fd8bf7",
      "metadata": {},
      "outputs": [],
      "source": []
    }
  ],
  "metadata": {
    "kernelspec": {
      "display_name": "Python 3",
      "language": "python",
      "name": "python3"
    },
    "language_info": {
      "codemirror_mode": {
        "name": "ipython",
        "version": 3
      },
      "file_extension": ".py",
      "mimetype": "text/x-python",
      "name": "python",
      "nbconvert_exporter": "python",
      "pygments_lexer": "ipython3",
      "version": "3.11.4"
    }
  },
  "nbformat": 4,
  "nbformat_minor": 5
}
